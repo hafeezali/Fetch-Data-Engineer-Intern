{
 "cells": [
  {
   "cell_type": "code",
   "execution_count": 291,
   "id": "869b1f85",
   "metadata": {},
   "outputs": [],
   "source": [
    "# PII-MASKING\n",
    "# 1. Establish connection with SQS to read data from the SQS queue\n",
    "# 2. Establish connection with PostgreSQL to write data to db\n",
    "# 3. Use python's fernet library to encode and decode user data based on a private key\n",
    "# 4. Post encrypted data to the database\n",
    "# NOTE: Data items with same values will have the same encrypted value. Masked items can be recovered using decryption"
   ]
  },
  {
   "cell_type": "code",
   "execution_count": 292,
   "id": "731163cc",
   "metadata": {},
   "outputs": [],
   "source": [
    "# python sdk for aws - boto3\n",
    "import boto3\n",
    "import json\n",
    "import copy\n",
    "# python postgres adapter\n",
    "import psycopg2\n",
    "import base64\n",
    "import pandas as pd\n",
    "\n",
    "from datetime import datetime\n",
    "# python encryption library\n",
    "from cryptography.fernet import Fernet"
   ]
  },
  {
   "cell_type": "code",
   "execution_count": 293,
   "id": "52a4f51d",
   "metadata": {},
   "outputs": [],
   "source": [
    "# Declare SQS queue configs\n",
    "REGION_NAME='eu-west-2'\n",
    "AWS_ACCESS_KEY_ID=''\n",
    "AWS_SECRET_ACCESS_KEY=''\n",
    "SQS_SERVER_URL='http://localhost:4566/'\n",
    "LOGIN_QUEUE_URL='http://localhost:4566/000000000000/login-queue'\n",
    "\n",
    "# Declare SQS consumer configs\n",
    "MAX_NUMBER_OF_MESSAGES=100\n",
    "VISIBILITY_TIMEOUT=30\n",
    "WAIT_TIME_SECONDS=20"
   ]
  },
  {
   "cell_type": "code",
   "execution_count": 294,
   "id": "89bda00f",
   "metadata": {},
   "outputs": [],
   "source": [
    "# Declare PostgreSQL configs\n",
    "DB_HOST = 'localhost'\n",
    "DB_NAME = 'postgres'\n",
    "DB_USER = 'postgres'\n",
    "DB_PASSWORD = 'postgres'\n",
    "DB_PORT = '5431'"
   ]
  },
  {
   "cell_type": "code",
   "execution_count": 295,
   "id": "b0df6054",
   "metadata": {},
   "outputs": [],
   "source": [
    "# Initialize key and cipher for encryption and decryption\n",
    "private_key = Fernet.generate_key()\n",
    "cipher = Fernet(private_key)"
   ]
  },
  {
   "cell_type": "code",
   "execution_count": 296,
   "id": "a83c8df5",
   "metadata": {},
   "outputs": [],
   "source": [
    "# Declare stucture of SQS message\n",
    "SQS_SCHEMA = {\n",
    "    \"user_id\": \"\", \n",
    "    \"device_type\": \"\", \n",
    "    \"masked_ip\": \"\", \n",
    "    \"masked_device_id\": \"\", \n",
    "    \"locale\": \"\", \n",
    "    \"app_version\": None, \n",
    "    \"create_date\" : datetime.today()\n",
    "}"
   ]
  },
  {
   "cell_type": "code",
   "execution_count": 297,
   "id": "9ac85fa3",
   "metadata": {},
   "outputs": [],
   "source": [
    "# DB insert query\n",
    "insert_query = \"\"\"\n",
    "    INSERT INTO user_logins (user_id, device_type, masked_ip, masked_device_id, locale, app_version, create_date)\n",
    "    VALUES (%s, %s, %s, %s, %s, %s, %s);\n",
    "\"\"\"\n",
    "# DB select query\n",
    "select_query = \"\"\"\n",
    "    SELECT * FROM user_logins;\n",
    "\"\"\"\n",
    "# DB truncate query\n",
    "truncate_query = \"\"\"\n",
    "    TRUNCATE TABLE user_logins;\n",
    "\"\"\""
   ]
  },
  {
   "cell_type": "code",
   "execution_count": 298,
   "id": "9ba5e6eb",
   "metadata": {},
   "outputs": [],
   "source": [
    "def initialize():\n",
    "    \"\"\"\n",
    "    This function initializes the postgres connection and SQS client\n",
    "    \"\"\"\n",
    "    sqs = boto3.client(\"sqs\", \n",
    "                       region_name=REGION_NAME, \n",
    "                       aws_access_key_id=AWS_ACCESS_KEY_ID,\n",
    "                       aws_secret_access_key=AWS_SECRET_ACCESS_KEY,\n",
    "                       endpoint_url=SQS_SERVER_URL)\n",
    "    pg_conn = psycopg2.connect(host=DB_HOST,\n",
    "                               dbname=DB_NAME,\n",
    "                               user=DB_USER,\n",
    "                               password=DB_PASSWORD,\n",
    "                               port=DB_PORT)\n",
    "    return sqs, pg_conn"
   ]
  },
  {
   "cell_type": "code",
   "execution_count": 299,
   "id": "ab056922",
   "metadata": {},
   "outputs": [],
   "source": [
    "def read_messages(sqs):\n",
    "    \"\"\"\n",
    "    This function reads data from the sqs queue and extracts the user login messages from it \n",
    "    \"\"\"\n",
    "    message_data = sqs.receive_message(QueueUrl=LOGIN_QUEUE_URL,\n",
    "                                     MaxNumberOfMessages=MAX_NUMBER_OF_MESSAGES,\n",
    "                                     VisibilityTimeout=VISIBILITY_TIMEOUT,\n",
    "                                     WaitTimeSeconds=WAIT_TIME_SECONDS)\n",
    "    return message_data.get(\"Messages\", [])"
   ]
  },
  {
   "cell_type": "code",
   "execution_count": 300,
   "id": "e657f522",
   "metadata": {},
   "outputs": [],
   "source": [
    "def encode64(bytes_):\n",
    "    \"\"\"\n",
    "    This function encodes bytes to a base 64 string\n",
    "    \"\"\"\n",
    "    return base64.b64encode(bytes_).decode('utf-8')"
   ]
  },
  {
   "cell_type": "code",
   "execution_count": 301,
   "id": "4faddc6a",
   "metadata": {},
   "outputs": [],
   "source": [
    "def process_and_encrypt(message):\n",
    "    \"\"\"\n",
    "    This function takes a queue message and converts it to a db message ready for getting persisted\n",
    "    It encrypts user information like ip and device_id\n",
    "    \"\"\"\n",
    "    body = json.loads(message[\"Body\"])\n",
    "    db_message = copy.deepcopy(SQS_SCHEMA)\n",
    "    for key in body.keys():\n",
    "        if key == \"user_id\":\n",
    "            db_message[\"user_id\"] = body[key]\n",
    "        elif key == \"device_type\":\n",
    "            db_message[\"device_type\"] = body[key]\n",
    "        elif key == \"ip\":\n",
    "            db_message[\"masked_ip\"] = encode64(cipher.encrypt(body[key].encode()))\n",
    "        elif key == \"device_id\":\n",
    "            db_message[\"masked_device_id\"] = encode64(cipher.encrypt(body[key].encode()))\n",
    "        elif key == \"locale\":\n",
    "            db_message[\"locale\"] = body[key]\n",
    "        elif key == \"app_version\":\n",
    "            db_message[\"app_version\"] = int(body[\"app_version\"].replace('.', ''))\n",
    "    return db_message"
   ]
  },
  {
   "cell_type": "code",
   "execution_count": 302,
   "id": "1ef8f27f",
   "metadata": {},
   "outputs": [],
   "source": [
    "def write_db_message(conn, row):\n",
    "    \"\"\"\n",
    "    This function writes row into postgres using conn\n",
    "    \"\"\"\n",
    "    cur = conn.cursor()\n",
    "    cur.execute(insert_query, (row[\"user_id\"], row[\"device_type\"], row[\"masked_ip\"], row[\"masked_device_id\"], row[\"locale\"], row[\"app_version\"], row[\"create_date\"]))\n",
    "\n",
    "    # committing it to the database\n",
    "    conn.commit()\n",
    "    cur.close()"
   ]
  },
  {
   "cell_type": "code",
   "execution_count": 303,
   "id": "82ac2682",
   "metadata": {},
   "outputs": [],
   "source": [
    "def query_db(pg_conn):\n",
    "    \"\"\"\n",
    "    This function queries the db to extract all SQS messages\n",
    "    \"\"\"\n",
    "    cur = pg_conn.cursor()\n",
    "\n",
    "    # executing the query\n",
    "    cur.execute(select_query)\n",
    "    resp = cur.fetchall()\n",
    "    cur.close()\n",
    "    return resp"
   ]
  },
  {
   "cell_type": "code",
   "execution_count": 304,
   "id": "3a629c59",
   "metadata": {},
   "outputs": [],
   "source": [
    "def truncate(pg_conn):\n",
    "    \"\"\"\n",
    "    This function deletes all rows from the table. Only to be used if it is required to drop data from user_logins\n",
    "    \"\"\"\n",
    "    cur = pg_conn.cursor()\n",
    "    \n",
    "    cur.execute(truncate_query)\n",
    "    pg_conn.commit()\n",
    "    cur.close()"
   ]
  },
  {
   "cell_type": "code",
   "execution_count": 309,
   "id": "c259d509",
   "metadata": {},
   "outputs": [],
   "source": [
    "def destructor(sqs, pg_conn):\n",
    "    \"\"\"\n",
    "    This function closes the pg_conn and sqs client\n",
    "    \"\"\"\n",
    "    del sqs\n",
    "    pg_conn.close()"
   ]
  },
  {
   "cell_type": "code",
   "execution_count": 306,
   "id": "efd3a6c4",
   "metadata": {},
   "outputs": [],
   "source": [
    "def decrypt(string):\n",
    "    \"\"\"\n",
    "    This function decrypts a string in base 64 back to original string\n",
    "    \"\"\"\n",
    "    return cipher.decrypt(base64.b64decode(string)).decode()"
   ]
  },
  {
   "cell_type": "code",
   "execution_count": 310,
   "id": "daaee88d",
   "metadata": {},
   "outputs": [],
   "source": [
    "if __name__ == \"__main__\":\n",
    "    sqs, pg_conn = initialize()\n",
    "    messages = read_messages(sqs)\n",
    "    for message in messages:\n",
    "        db_message = process_and_encrypt(message)\n",
    "        write_db_message(pg_conn, db_message)\n",
    "    destructor(sqs, pg_conn)"
   ]
  },
  {
   "cell_type": "code",
   "execution_count": 311,
   "id": "c2db7612",
   "metadata": {},
   "outputs": [],
   "source": [
    "# Future enhancements:\n",
    "# 1. SQS queue, server, and postgres configs can be moved to a dedicated config file\n",
    "# 2. Private key must be generated only once and stored somewhere for later decryption. It should not be generated everytime\n",
    "# 3. DB insert, select, and truncate queries must ideally sit in dedicated SQL files outside of core logic\n",
    "# 4. An in-memory buffer queue can be used to serve as an interface between the SQS queue consumer and postgres db. The consumer and db writer should run on dedicated threads\n",
    "#    The current implementation: reading everything, then processing, then writing is not ideal for queue based system event-driven systems "
   ]
  }
 ],
 "metadata": {
  "kernelspec": {
   "display_name": "Python 3 (ipykernel)",
   "language": "python",
   "name": "python3"
  },
  "language_info": {
   "codemirror_mode": {
    "name": "ipython",
    "version": 3
   },
   "file_extension": ".py",
   "mimetype": "text/x-python",
   "name": "python",
   "nbconvert_exporter": "python",
   "pygments_lexer": "ipython3",
   "version": "3.9.12"
  }
 },
 "nbformat": 4,
 "nbformat_minor": 5
}
